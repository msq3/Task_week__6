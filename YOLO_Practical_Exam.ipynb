{
  "cells": [
    {
      "cell_type": "markdown",
      "id": "fd8284c7",
      "metadata": {
        "id": "fd8284c7"
      },
      "source": [
        "# Road Traffic Vehicle Counting Exam"
      ]
    },
    {
      "cell_type": "markdown",
      "id": "90e8c1a5",
      "metadata": {
        "id": "90e8c1a5"
      },
      "source": [
        "In this exam, you will use the YOLO (You Only Look Once) object detection model to analyze a video of road traffic. Your primary task is to count the number of vehicles exiting the road at each of the four exits (located at the top, bottom, left, and right of the frame). The video for this task is provided at `Datasets/YOLO_Exam_Video.mp4`.\n",
        "\n",
        "## Objectives\n",
        "- Load and process the video using OpenCV.\n",
        "- Utilize the YOLO model to detect vehicles in each frame.\n",
        "- Manipulate the video frames using OpenCV.\n",
        "- Track vehicles as they move across the video frames.\n",
        "- Count the number of vehicles exiting via the top street.\n",
        "- Count the number of vehicles exiting via the bottom street.\n",
        "- Count the number of vehicles exiting via the left street.\n",
        "- Count the number of vehicles exiting via the right street.\n"
      ]
    },
    {
      "cell_type": "markdown",
      "id": "c7269b0e",
      "metadata": {
        "id": "c7269b0e"
      },
      "source": [
        "## Setup Environment"
      ]
    },
    {
      "cell_type": "markdown",
      "id": "2fd3bce8",
      "metadata": {
        "id": "2fd3bce8"
      },
      "source": [
        "Before you begin, ensure you have the necessary libraries installed. You will need `opencv`, and `ultralytics` among others.\n",
        "If these are not installed, you should install them."
      ]
    },
    {
      "cell_type": "code",
      "execution_count": 35,
      "id": "e48a05c4",
      "metadata": {
        "vscode": {
          "languageId": "plaintext"
        },
        "id": "e48a05c4",
        "colab": {
          "base_uri": "https://localhost:8080/"
        },
        "outputId": "2cae550a-26ae-4c25-f50e-8176fa3b701d"
      },
      "outputs": [
        {
          "output_type": "stream",
          "name": "stdout",
          "text": [
            "Requirement already satisfied: ultralytics in /usr/local/lib/python3.10/dist-packages (8.2.85)\n",
            "Requirement already satisfied: numpy<2.0.0,>=1.23.0 in /usr/local/lib/python3.10/dist-packages (from ultralytics) (1.26.4)\n",
            "Requirement already satisfied: matplotlib>=3.3.0 in /usr/local/lib/python3.10/dist-packages (from ultralytics) (3.7.1)\n",
            "Requirement already satisfied: opencv-python>=4.6.0 in /usr/local/lib/python3.10/dist-packages (from ultralytics) (4.10.0.84)\n",
            "Requirement already satisfied: pillow>=7.1.2 in /usr/local/lib/python3.10/dist-packages (from ultralytics) (9.4.0)\n",
            "Requirement already satisfied: pyyaml>=5.3.1 in /usr/local/lib/python3.10/dist-packages (from ultralytics) (6.0.2)\n",
            "Requirement already satisfied: requests>=2.23.0 in /usr/local/lib/python3.10/dist-packages (from ultralytics) (2.32.3)\n",
            "Requirement already satisfied: scipy>=1.4.1 in /usr/local/lib/python3.10/dist-packages (from ultralytics) (1.13.1)\n",
            "Requirement already satisfied: torch>=1.8.0 in /usr/local/lib/python3.10/dist-packages (from ultralytics) (2.4.0+cu121)\n",
            "Requirement already satisfied: torchvision>=0.9.0 in /usr/local/lib/python3.10/dist-packages (from ultralytics) (0.19.0+cu121)\n",
            "Requirement already satisfied: tqdm>=4.64.0 in /usr/local/lib/python3.10/dist-packages (from ultralytics) (4.66.5)\n",
            "Requirement already satisfied: psutil in /usr/local/lib/python3.10/dist-packages (from ultralytics) (5.9.5)\n",
            "Requirement already satisfied: py-cpuinfo in /usr/local/lib/python3.10/dist-packages (from ultralytics) (9.0.0)\n",
            "Requirement already satisfied: pandas>=1.1.4 in /usr/local/lib/python3.10/dist-packages (from ultralytics) (2.1.4)\n",
            "Requirement already satisfied: seaborn>=0.11.0 in /usr/local/lib/python3.10/dist-packages (from ultralytics) (0.13.1)\n",
            "Requirement already satisfied: ultralytics-thop>=2.0.0 in /usr/local/lib/python3.10/dist-packages (from ultralytics) (2.0.6)\n",
            "Requirement already satisfied: contourpy>=1.0.1 in /usr/local/lib/python3.10/dist-packages (from matplotlib>=3.3.0->ultralytics) (1.2.1)\n",
            "Requirement already satisfied: cycler>=0.10 in /usr/local/lib/python3.10/dist-packages (from matplotlib>=3.3.0->ultralytics) (0.12.1)\n",
            "Requirement already satisfied: fonttools>=4.22.0 in /usr/local/lib/python3.10/dist-packages (from matplotlib>=3.3.0->ultralytics) (4.53.1)\n",
            "Requirement already satisfied: kiwisolver>=1.0.1 in /usr/local/lib/python3.10/dist-packages (from matplotlib>=3.3.0->ultralytics) (1.4.5)\n",
            "Requirement already satisfied: packaging>=20.0 in /usr/local/lib/python3.10/dist-packages (from matplotlib>=3.3.0->ultralytics) (24.1)\n",
            "Requirement already satisfied: pyparsing>=2.3.1 in /usr/local/lib/python3.10/dist-packages (from matplotlib>=3.3.0->ultralytics) (3.1.4)\n",
            "Requirement already satisfied: python-dateutil>=2.7 in /usr/local/lib/python3.10/dist-packages (from matplotlib>=3.3.0->ultralytics) (2.8.2)\n",
            "Requirement already satisfied: pytz>=2020.1 in /usr/local/lib/python3.10/dist-packages (from pandas>=1.1.4->ultralytics) (2024.1)\n",
            "Requirement already satisfied: tzdata>=2022.1 in /usr/local/lib/python3.10/dist-packages (from pandas>=1.1.4->ultralytics) (2024.1)\n",
            "Requirement already satisfied: charset-normalizer<4,>=2 in /usr/local/lib/python3.10/dist-packages (from requests>=2.23.0->ultralytics) (3.3.2)\n",
            "Requirement already satisfied: idna<4,>=2.5 in /usr/local/lib/python3.10/dist-packages (from requests>=2.23.0->ultralytics) (3.8)\n",
            "Requirement already satisfied: urllib3<3,>=1.21.1 in /usr/local/lib/python3.10/dist-packages (from requests>=2.23.0->ultralytics) (2.0.7)\n",
            "Requirement already satisfied: certifi>=2017.4.17 in /usr/local/lib/python3.10/dist-packages (from requests>=2.23.0->ultralytics) (2024.7.4)\n",
            "Requirement already satisfied: filelock in /usr/local/lib/python3.10/dist-packages (from torch>=1.8.0->ultralytics) (3.15.4)\n",
            "Requirement already satisfied: typing-extensions>=4.8.0 in /usr/local/lib/python3.10/dist-packages (from torch>=1.8.0->ultralytics) (4.12.2)\n",
            "Requirement already satisfied: sympy in /usr/local/lib/python3.10/dist-packages (from torch>=1.8.0->ultralytics) (1.13.2)\n",
            "Requirement already satisfied: networkx in /usr/local/lib/python3.10/dist-packages (from torch>=1.8.0->ultralytics) (3.3)\n",
            "Requirement already satisfied: jinja2 in /usr/local/lib/python3.10/dist-packages (from torch>=1.8.0->ultralytics) (3.1.4)\n",
            "Requirement already satisfied: fsspec in /usr/local/lib/python3.10/dist-packages (from torch>=1.8.0->ultralytics) (2024.6.1)\n",
            "Requirement already satisfied: six>=1.5 in /usr/local/lib/python3.10/dist-packages (from python-dateutil>=2.7->matplotlib>=3.3.0->ultralytics) (1.16.0)\n",
            "Requirement already satisfied: MarkupSafe>=2.0 in /usr/local/lib/python3.10/dist-packages (from jinja2->torch>=1.8.0->ultralytics) (2.1.5)\n",
            "Requirement already satisfied: mpmath<1.4,>=1.1.0 in /usr/local/lib/python3.10/dist-packages (from sympy->torch>=1.8.0->ultralytics) (1.3.0)\n"
          ]
        }
      ],
      "source": [
        "!pip install ultralytics\n",
        "import pandas as pd\n",
        "import numpy as np\n",
        "from ultralytics import YOLO\n",
        "import cv2\n",
        "\n"
      ]
    },
    {
      "cell_type": "code",
      "source": [],
      "metadata": {
        "id": "gPFO378RhBRA"
      },
      "id": "gPFO378RhBRA",
      "execution_count": 35,
      "outputs": []
    },
    {
      "cell_type": "markdown",
      "id": "a69c2ac2",
      "metadata": {
        "id": "a69c2ac2"
      },
      "source": [
        "## Load the YOLO Model"
      ]
    },
    {
      "cell_type": "markdown",
      "id": "145d70fc",
      "metadata": {
        "id": "145d70fc"
      },
      "source": [
        "You will first need to load the YOLO model, there is a custom model for this exam called `YOLO_Model.pt` under Datasets file ⚠️ PLEASE USE THIS MODEL AND DO NOT USE ANY OTHER MODEL ⚠️.\n",
        "Write the code to load the YOLO model below:"
      ]
    },
    {
      "cell_type": "code",
      "execution_count": 36,
      "id": "7e580e4a",
      "metadata": {
        "vscode": {
          "languageId": "plaintext"
        },
        "id": "7e580e4a"
      },
      "outputs": [],
      "source": [
        "model = YOLO('/content/YOLO_Model.pt')\n"
      ]
    },
    {
      "cell_type": "markdown",
      "id": "cf691ac8",
      "metadata": {
        "id": "cf691ac8"
      },
      "source": [
        "## Prepare the Video Capture"
      ]
    },
    {
      "cell_type": "markdown",
      "metadata": {
        "id": "Nw9RSvKCdonK"
      },
      "source": [
        "Create a variable to capture the video frames, you can use `cv2.VideoCapture()` to achive this."
      ],
      "id": "Nw9RSvKCdonK"
    },
    {
      "cell_type": "code",
      "execution_count": 37,
      "id": "81cfbca1",
      "metadata": {
        "vscode": {
          "languageId": "plaintext"
        },
        "id": "81cfbca1",
        "colab": {
          "base_uri": "https://localhost:8080/"
        },
        "outputId": "edc2baff-e811-4c00-d392-def1e1ba058f"
      },
      "outputs": [
        {
          "output_type": "execute_result",
          "data": {
            "text/plain": [
              "True"
            ]
          },
          "metadata": {},
          "execution_count": 37
        }
      ],
      "source": [
        "cap = cv2.VideoCapture('/content/YOLO_Video.mp4')\n",
        "cap.isOpened()\n",
        "\n",
        "\n",
        "\n"
      ]
    },
    {
      "cell_type": "markdown",
      "id": "48757309",
      "metadata": {
        "id": "48757309"
      },
      "source": [
        "## Get Video Information"
      ]
    },
    {
      "cell_type": "markdown",
      "id": "b4f5d5bc",
      "metadata": {
        "id": "b4f5d5bc"
      },
      "source": [
        "You can use `cv2` library to get these information fro the `VideoCapture()` variable you created to extract these information:\n",
        "* `height`: Video's height.\n",
        "* `width`: Video's width.\n",
        "* `fps`: Video's frames."
      ]
    },
    {
      "cell_type": "code",
      "execution_count": 38,
      "id": "cb8e5ceb",
      "metadata": {
        "vscode": {
          "languageId": "plaintext"
        },
        "id": "cb8e5ceb"
      },
      "outputs": [],
      "source": [
        "h,w,fps=cap.get(cv2.CAP_PROP_FRAME_HEIGHT),cap.get(cv2.CAP_PROP_FRAME_HEIGHT),cap.get(cv2.CAP_PROP_FPS)"
      ]
    },
    {
      "cell_type": "markdown",
      "id": "3f241495",
      "metadata": {
        "id": "3f241495"
      },
      "source": [
        "## Prepare Video Writer to Store the Output"
      ]
    },
    {
      "cell_type": "markdown",
      "id": "9ef61a34",
      "metadata": {
        "id": "9ef61a34"
      },
      "source": [
        "Create a variable that uses `cv2.VideoCapture()` to save the video with the bounding boxes, specified Region of Interest rectangle (ROI) and the counted vehicles on each sides. You will need to make the video with the same `fps`, `width`, `height`, and specify the codec and output path of the video."
      ]
    },
    {
      "cell_type": "code",
      "source": [
        "fourcc = cv2.VideoWriter_fourcc(*'MP4V')\n",
        "out = cv2.VideoWriter('output.mp4' , fourcc,fps, (int(w),int(h)))"
      ],
      "metadata": {
        "id": "HD06K5woKyLJ"
      },
      "id": "HD06K5woKyLJ",
      "execution_count": 39,
      "outputs": []
    },
    {
      "cell_type": "markdown",
      "id": "31e882a2",
      "metadata": {
        "id": "31e882a2"
      },
      "source": [
        "## Expermint to get the `(x1, y1, x2, y2)` of the ROI"
      ]
    },
    {
      "cell_type": "markdown",
      "id": "3b6e6d97",
      "metadata": {
        "id": "3b6e6d97"
      },
      "source": [
        "### Hint\n",
        "When defining the Regions of Interest (ROIs) for detecting vehicles exiting the road, consider the coordinates that outline the relevant areas. These coordinates can be specified as `(x1, y1, x2, y2)`, where `(x1, y1)` is the top-left corner and `(x2, y2)` is the bottom-right corner of the rectangle.\n",
        "\n",
        "Experiment with different coordinates to accurately cover the streets where vehicles exit. Visualize these ROIs by drawing rectangles on a frame of the video and adjust the coordinates as needed until you capture the desired areas effectively."
      ]
    },
    {
      "cell_type": "code",
      "source": [
        "x1_top,y1_top,x2_top,y2_top = 0,0,int(w),int(h/2)-100\n",
        "x1_bottom,y1_bottom , x2_bottom ,y2_bottom = 0, int(h/2)+100 , int(w),int(h)\n",
        "x1_left,y1_left,x2_left,y2_left = 0,0, int(w/2)-100,int(h)\n",
        "x1_right,y1_right,x2_right,y2_right = int(w/2)+100,0,int(w) , int(h)"
      ],
      "metadata": {
        "id": "GX09itQlLlP9"
      },
      "id": "GX09itQlLlP9",
      "execution_count": 40,
      "outputs": []
    },
    {
      "cell_type": "code",
      "source": [],
      "metadata": {
        "id": "cg0NsjWMPP6v"
      },
      "id": "cg0NsjWMPP6v",
      "execution_count": 40,
      "outputs": []
    },
    {
      "cell_type": "markdown",
      "id": "067dbc12",
      "metadata": {
        "id": "067dbc12"
      },
      "source": [
        "## Process Video Frames and Identify Vehicles Left the Road Form Each Street"
      ]
    },
    {
      "cell_type": "markdown",
      "id": "aa695d88",
      "metadata": {
        "id": "aa695d88"
      },
      "source": [
        "For each frame in the video, use the YOLO model to detect and track vehicles. You will need to write a loop that processes each frame and applies the YOLO model.\n",
        "\n",
        "In each frame, after detecting the vehicles, determine whether they exited the road via the top, bottom, left, or right street. You can use the positions of the bounding boxes provided by YOLO to do this.\n",
        "\n",
        "- The video should display bounding boxes around the detected objects.\n",
        "- The video should display your name on the top.\n",
        "- It should display the calculated center of each vehicle.\n",
        "- The video should display the confidence score, alongside the object ID and class ID of each detected and tracked object.\n",
        "- The video should display the rectangles representing the regions where you count the vehicles that have crossed and exited.\n",
        "- The video should display the number of vehicles that exited via the top street.\n",
        "- The video should display the number of vehicles that exited via the bottom street.\n",
        "- The video should display the number of vehicles that exited via the left street.\n",
        "- The video should display the number of vehicles that exited via the right street."
      ]
    },
    {
      "cell_type": "code",
      "source": [
        "from collections import defaultdict\n",
        "\n",
        "top_count = 0\n",
        "bottom_count = 0\n",
        "left_count = 0\n",
        "right_count = 0\n",
        "\n",
        "exited_vehicle_ids = set()\n",
        "\n",
        "vehicle_positions = defaultdict(list)\n",
        "\n",
        "while True:\n",
        "  ret, frame = cap.read()\n",
        "  if not ret:\n",
        "    break\n",
        "\n",
        "  results = model(frame)\n",
        "  for result in results:\n",
        "    boxes = result.boxes.cpu().numpy()\n",
        "    for box in boxes:\n",
        "      x1, y1, x2, y2 = box.xyxy[0].astype(int)\n",
        "      cx = int((x1 + x2) / 2)\n",
        "      cy = int((y1 + y2) / 2)\n",
        "      conf = round(box.conf[0], 2)\n",
        "      cls = int(box.cls[0])\n",
        "\n",
        "      if box.id is not None:\n",
        "        id = int(box.id[0])\n",
        "      else:\n",
        "        id = 0\n",
        "\n",
        "      cv2.rectangle(frame, (x1, y1), (x2, y2), (0, 255, 0), 2)\n",
        "      cv2.circle(frame, (cx, cy), 5, (0, 0, 255), -1)\n",
        "\n",
        "      label = f\"ID: {id} Conf: {conf} Class: {cls}\"\n",
        "      cv2.putText(frame, label, (x1, y1 - 10), cv2.FONT_HERSHEY_SIMPLEX, 0.5, (0, 255, 0), 2)\n",
        "\n",
        "      vehicle_positions[id].append((cx, cy))\n",
        "\n",
        "      if id not in exited_vehicle_ids:\n",
        "        if y2 < y1_top and cx > x1_top and cx < x2_top:\n",
        "          top_count += 1\n",
        "          exited_vehicle_ids.add(id)\n",
        "\n",
        "          cv2.rectangle(frame, (x1_top, y1_top), (x2_top, y2_top), (255, 0, 0), 2)\n",
        "          cv2.rectangle(frame, (x1_bottom, y1_bottom), (x2_bottom, y2_bottom), (255, 0, 0), 2)\n",
        "          cv2.rectangle(frame, (x1_left, y1_left), (x2_left, y2_left), (255, 0, 0), 2)\n",
        "          cv2.rectangle(frame, (x1_right, y1_right), (x2_right, y2_right), (255, 0, 0), 2)\n",
        "\n",
        "          cv.putText(frame, f\"Top: {top_count}\", (10, 30), cv2.FONT_HERSHEY_SIMPLEX, 0.7, (255, 0, 0), 2)\n",
        "          cv.putText(frame, f\"Bottom: {bottom_count}\", (10, 60), cv2.FONT_HERSHEY_SIMPLEX, 0.7, (255, 0, 0), 2)\n",
        "          cv.putText(frame, f\"Left: {left_count}\", (10, 90), cv2.FONT_HERSHEY_SIMPLEX, 0.7, (255, 0, 0), 2)\n",
        "          cv.putText(frame, f\"Right: {right_count}\", (10, 120), cv2.FONT_HERSHEY_SIMPLEX, 0.7, (255, 0, 0), 2)\n",
        "\n",
        "          cv.putText(frame, \"detect\", (int(w) - 200, 30), cv2.FONT_HERSHEY_SIMPLEX, 0.7, (0, 0, 255), 2)\n",
        "          out.write\n",
        "\n",
        "\n",
        "\n",
        ""
      ],
      "metadata": {
        "colab": {
          "base_uri": "https://localhost:8080/"
        },
        "id": "nsxY5YS1OjVE",
        "outputId": "952ca775-1cf0-4f7a-e544-b86b8e5f03d8"
      },
      "id": "nsxY5YS1OjVE",
      "execution_count": null,
      "outputs": [
        {
          "output_type": "stream",
          "name": "stdout",
          "text": [
            "\n",
            "0: 384x640 2 buss, 90 cars, 2 trucks, 2 vans, 2992.4ms\n",
            "Speed: 5.4ms preprocess, 2992.4ms inference, 1.6ms postprocess per image at shape (1, 3, 384, 640)\n",
            "\n",
            "0: 384x640 2 buss, 92 cars, 2 trucks, 3 vans, 3580.3ms\n",
            "Speed: 3.9ms preprocess, 3580.3ms inference, 1.3ms postprocess per image at shape (1, 3, 384, 640)\n",
            "\n",
            "0: 384x640 2 buss, 94 cars, 2 trucks, 2 vans, 2692.1ms\n",
            "Speed: 3.7ms preprocess, 2692.1ms inference, 1.2ms postprocess per image at shape (1, 3, 384, 640)\n",
            "\n",
            "0: 384x640 2 buss, 92 cars, 2 trucks, 2 vans, 2689.5ms\n",
            "Speed: 4.2ms preprocess, 2689.5ms inference, 1.2ms postprocess per image at shape (1, 3, 384, 640)\n",
            "\n",
            "0: 384x640 2 buss, 94 cars, 2 trucks, 2 vans, 2638.5ms\n",
            "Speed: 4.3ms preprocess, 2638.5ms inference, 1.2ms postprocess per image at shape (1, 3, 384, 640)\n",
            "\n",
            "0: 384x640 2 buss, 92 cars, 2 trucks, 2 vans, 3930.9ms\n",
            "Speed: 3.8ms preprocess, 3930.9ms inference, 1.2ms postprocess per image at shape (1, 3, 384, 640)\n",
            "\n",
            "0: 384x640 2 buss, 92 cars, 2 trucks, 2 vans, 2686.8ms\n",
            "Speed: 4.5ms preprocess, 2686.8ms inference, 1.1ms postprocess per image at shape (1, 3, 384, 640)\n",
            "\n",
            "0: 384x640 2 buss, 92 cars, 2 trucks, 2 vans, 2677.4ms\n",
            "Speed: 4.0ms preprocess, 2677.4ms inference, 1.2ms postprocess per image at shape (1, 3, 384, 640)\n",
            "\n",
            "0: 384x640 2 buss, 90 cars, 2 trucks, 2 vans, 2654.2ms\n",
            "Speed: 3.9ms preprocess, 2654.2ms inference, 1.2ms postprocess per image at shape (1, 3, 384, 640)\n",
            "\n",
            "0: 384x640 2 buss, 92 cars, 2 trucks, 2 vans, 3320.1ms\n",
            "Speed: 5.8ms preprocess, 3320.1ms inference, 1.5ms postprocess per image at shape (1, 3, 384, 640)\n",
            "\n",
            "0: 384x640 2 buss, 90 cars, 2 trucks, 2 vans, 3190.7ms\n",
            "Speed: 3.9ms preprocess, 3190.7ms inference, 1.2ms postprocess per image at shape (1, 3, 384, 640)\n",
            "\n",
            "0: 384x640 2 buss, 91 cars, 2 trucks, 4 vans, 2663.3ms\n",
            "Speed: 4.3ms preprocess, 2663.3ms inference, 1.1ms postprocess per image at shape (1, 3, 384, 640)\n",
            "\n",
            "0: 384x640 2 buss, 90 cars, 2 trucks, 4 vans, 2682.5ms\n",
            "Speed: 3.8ms preprocess, 2682.5ms inference, 1.1ms postprocess per image at shape (1, 3, 384, 640)\n",
            "\n",
            "0: 384x640 2 buss, 90 cars, 2 trucks, 4 vans, 2705.8ms\n",
            "Speed: 3.9ms preprocess, 2705.8ms inference, 1.7ms postprocess per image at shape (1, 3, 384, 640)\n",
            "\n",
            "0: 384x640 2 buss, 91 cars, 2 trucks, 4 vans, 3817.2ms\n",
            "Speed: 4.0ms preprocess, 3817.2ms inference, 1.2ms postprocess per image at shape (1, 3, 384, 640)\n",
            "\n",
            "0: 384x640 2 buss, 89 cars, 2 trucks, 4 vans, 2701.4ms\n",
            "Speed: 4.1ms preprocess, 2701.4ms inference, 1.1ms postprocess per image at shape (1, 3, 384, 640)\n",
            "\n",
            "0: 384x640 2 buss, 89 cars, 2 trucks, 4 vans, 2686.5ms\n",
            "Speed: 3.7ms preprocess, 2686.5ms inference, 1.1ms postprocess per image at shape (1, 3, 384, 640)\n",
            "\n",
            "0: 384x640 2 buss, 91 cars, 2 trucks, 4 vans, 2682.3ms\n",
            "Speed: 4.0ms preprocess, 2682.3ms inference, 1.2ms postprocess per image at shape (1, 3, 384, 640)\n",
            "\n",
            "0: 384x640 2 buss, 92 cars, 1 truck, 4 vans, 3882.1ms\n",
            "Speed: 4.2ms preprocess, 3882.1ms inference, 1.6ms postprocess per image at shape (1, 3, 384, 640)\n",
            "\n",
            "0: 384x640 2 buss, 91 cars, 1 truck, 4 vans, 2707.8ms\n",
            "Speed: 4.6ms preprocess, 2707.8ms inference, 1.2ms postprocess per image at shape (1, 3, 384, 640)\n",
            "\n",
            "0: 384x640 2 buss, 93 cars, 2 trucks, 3 vans, 2684.9ms\n",
            "Speed: 4.7ms preprocess, 2684.9ms inference, 1.1ms postprocess per image at shape (1, 3, 384, 640)\n",
            "\n",
            "0: 384x640 2 buss, 95 cars, 2 trucks, 3 vans, 2688.4ms\n",
            "Speed: 3.7ms preprocess, 2688.4ms inference, 1.3ms postprocess per image at shape (1, 3, 384, 640)\n",
            "\n",
            "0: 384x640 2 buss, 96 cars, 1 truck, 3 vans, 3197.1ms\n",
            "Speed: 3.7ms preprocess, 3197.1ms inference, 1.6ms postprocess per image at shape (1, 3, 384, 640)\n",
            "\n",
            "0: 384x640 2 buss, 94 cars, 1 truck, 3 vans, 3369.4ms\n",
            "Speed: 4.1ms preprocess, 3369.4ms inference, 1.2ms postprocess per image at shape (1, 3, 384, 640)\n",
            "\n",
            "0: 384x640 2 buss, 93 cars, 2 trucks, 3 vans, 2674.1ms\n",
            "Speed: 7.1ms preprocess, 2674.1ms inference, 1.2ms postprocess per image at shape (1, 3, 384, 640)\n",
            "\n",
            "0: 384x640 2 buss, 91 cars, 2 trucks, 3 vans, 2700.8ms\n",
            "Speed: 4.0ms preprocess, 2700.8ms inference, 1.2ms postprocess per image at shape (1, 3, 384, 640)\n",
            "\n",
            "0: 384x640 2 buss, 94 cars, 2 trucks, 4 vans, 2689.2ms\n",
            "Speed: 3.7ms preprocess, 2689.2ms inference, 1.2ms postprocess per image at shape (1, 3, 384, 640)\n",
            "\n",
            "0: 384x640 2 buss, 94 cars, 1 truck, 4 vans, 3902.4ms\n",
            "Speed: 3.7ms preprocess, 3902.4ms inference, 1.6ms postprocess per image at shape (1, 3, 384, 640)\n",
            "\n",
            "0: 384x640 4 buss, 93 cars, 1 truck, 5 vans, 2683.4ms\n",
            "Speed: 4.0ms preprocess, 2683.4ms inference, 1.2ms postprocess per image at shape (1, 3, 384, 640)\n",
            "\n",
            "0: 384x640 4 buss, 92 cars, 2 trucks, 5 vans, 2657.3ms\n",
            "Speed: 2.8ms preprocess, 2657.3ms inference, 1.3ms postprocess per image at shape (1, 3, 384, 640)\n",
            "\n",
            "0: 384x640 4 buss, 90 cars, 2 trucks, 5 vans, 2699.2ms\n",
            "Speed: 3.7ms preprocess, 2699.2ms inference, 1.2ms postprocess per image at shape (1, 3, 384, 640)\n",
            "\n",
            "0: 384x640 4 buss, 91 cars, 1 truck, 5 vans, 3627.3ms\n",
            "Speed: 3.1ms preprocess, 3627.3ms inference, 1.7ms postprocess per image at shape (1, 3, 384, 640)\n",
            "\n",
            "0: 384x640 4 buss, 88 cars, 1 truck, 5 vans, 2894.5ms\n",
            "Speed: 4.1ms preprocess, 2894.5ms inference, 1.2ms postprocess per image at shape (1, 3, 384, 640)\n",
            "\n",
            "0: 384x640 4 buss, 89 cars, 2 trucks, 4 vans, 2709.7ms\n",
            "Speed: 3.9ms preprocess, 2709.7ms inference, 1.2ms postprocess per image at shape (1, 3, 384, 640)\n",
            "\n",
            "0: 384x640 3 buss, 89 cars, 2 trucks, 4 vans, 2734.1ms\n",
            "Speed: 3.6ms preprocess, 2734.1ms inference, 1.2ms postprocess per image at shape (1, 3, 384, 640)\n",
            "\n",
            "0: 384x640 4 buss, 88 cars, 1 truck, 4 vans, 3091.6ms\n",
            "Speed: 3.8ms preprocess, 3091.6ms inference, 1.7ms postprocess per image at shape (1, 3, 384, 640)\n",
            "\n",
            "0: 384x640 3 buss, 89 cars, 2 trucks, 5 vans, 3505.2ms\n",
            "Speed: 4.1ms preprocess, 3505.2ms inference, 1.2ms postprocess per image at shape (1, 3, 384, 640)\n",
            "\n",
            "0: 384x640 3 buss, 86 cars, 2 trucks, 4 vans, 2715.4ms\n",
            "Speed: 4.9ms preprocess, 2715.4ms inference, 1.2ms postprocess per image at shape (1, 3, 384, 640)\n",
            "\n",
            "0: 384x640 3 buss, 88 cars, 2 trucks, 4 vans, 2729.0ms\n",
            "Speed: 3.7ms preprocess, 2729.0ms inference, 1.2ms postprocess per image at shape (1, 3, 384, 640)\n",
            "\n",
            "0: 384x640 4 buss, 87 cars, 1 truck, 4 vans, 2687.8ms\n",
            "Speed: 3.7ms preprocess, 2687.8ms inference, 1.2ms postprocess per image at shape (1, 3, 384, 640)\n",
            "\n",
            "0: 384x640 4 buss, 88 cars, 2 trucks, 3 vans, 3909.8ms\n",
            "Speed: 4.4ms preprocess, 3909.8ms inference, 1.2ms postprocess per image at shape (1, 3, 384, 640)\n",
            "\n",
            "0: 384x640 4 buss, 87 cars, 2 trucks, 3 vans, 2698.0ms\n",
            "Speed: 4.6ms preprocess, 2698.0ms inference, 1.2ms postprocess per image at shape (1, 3, 384, 640)\n",
            "\n",
            "0: 384x640 4 buss, 90 cars, 2 trucks, 4 vans, 2689.7ms\n",
            "Speed: 4.0ms preprocess, 2689.7ms inference, 1.1ms postprocess per image at shape (1, 3, 384, 640)\n",
            "\n",
            "0: 384x640 4 buss, 89 cars, 1 truck, 3 vans, 2700.1ms\n",
            "Speed: 3.6ms preprocess, 2700.1ms inference, 1.2ms postprocess per image at shape (1, 3, 384, 640)\n",
            "\n",
            "0: 384x640 3 buss, 88 cars, 1 truck, 3 vans, 3560.0ms\n",
            "Speed: 4.3ms preprocess, 3560.0ms inference, 1.6ms postprocess per image at shape (1, 3, 384, 640)\n",
            "\n",
            "0: 384x640 3 buss, 88 cars, 2 trucks, 3 vans, 3012.1ms\n",
            "Speed: 5.3ms preprocess, 3012.1ms inference, 1.2ms postprocess per image at shape (1, 3, 384, 640)\n",
            "\n",
            "0: 384x640 4 buss, 86 cars, 2 trucks, 2 vans, 2699.1ms\n",
            "Speed: 5.3ms preprocess, 2699.1ms inference, 1.2ms postprocess per image at shape (1, 3, 384, 640)\n",
            "\n",
            "0: 384x640 3 buss, 88 cars, 2 trucks, 2 vans, 2691.6ms\n",
            "Speed: 3.8ms preprocess, 2691.6ms inference, 1.2ms postprocess per image at shape (1, 3, 384, 640)\n",
            "\n",
            "0: 384x640 3 buss, 92 cars, 2 trucks, 4 vans, 3010.7ms\n",
            "Speed: 3.7ms preprocess, 3010.7ms inference, 1.7ms postprocess per image at shape (1, 3, 384, 640)\n",
            "\n",
            "0: 384x640 3 buss, 91 cars, 2 trucks, 2 vans, 3594.1ms\n",
            "Speed: 6.7ms preprocess, 3594.1ms inference, 1.2ms postprocess per image at shape (1, 3, 384, 640)\n",
            "\n",
            "0: 384x640 3 buss, 88 cars, 2 trucks, 3 vans, 2696.0ms\n",
            "Speed: 3.6ms preprocess, 2696.0ms inference, 1.1ms postprocess per image at shape (1, 3, 384, 640)\n",
            "\n",
            "0: 384x640 3 buss, 91 cars, 2 trucks, 3 vans, 2683.0ms\n",
            "Speed: 3.7ms preprocess, 2683.0ms inference, 1.1ms postprocess per image at shape (1, 3, 384, 640)\n",
            "\n",
            "0: 384x640 3 buss, 87 cars, 2 trucks, 3 vans, 2694.4ms\n",
            "Speed: 3.7ms preprocess, 2694.4ms inference, 1.1ms postprocess per image at shape (1, 3, 384, 640)\n",
            "\n",
            "0: 384x640 3 buss, 89 cars, 3 trucks, 3 vans, 3921.0ms\n",
            "Speed: 3.8ms preprocess, 3921.0ms inference, 1.1ms postprocess per image at shape (1, 3, 384, 640)\n",
            "\n",
            "0: 384x640 3 buss, 90 cars, 2 trucks, 3 vans, 2690.3ms\n",
            "Speed: 3.6ms preprocess, 2690.3ms inference, 1.2ms postprocess per image at shape (1, 3, 384, 640)\n",
            "\n",
            "0: 384x640 3 buss, 88 cars, 2 trucks, 4 vans, 2710.1ms\n",
            "Speed: 3.6ms preprocess, 2710.1ms inference, 1.2ms postprocess per image at shape (1, 3, 384, 640)\n",
            "\n",
            "0: 384x640 3 buss, 92 cars, 3 trucks, 3 vans, 2685.0ms\n",
            "Speed: 3.2ms preprocess, 2685.0ms inference, 1.3ms postprocess per image at shape (1, 3, 384, 640)\n",
            "\n",
            "0: 384x640 3 buss, 90 cars, 2 trucks, 3 vans, 3485.7ms\n",
            "Speed: 3.8ms preprocess, 3485.7ms inference, 1.7ms postprocess per image at shape (1, 3, 384, 640)\n",
            "\n",
            "0: 384x640 3 buss, 91 cars, 2 trucks, 3 vans, 3084.2ms\n",
            "Speed: 3.9ms preprocess, 3084.2ms inference, 1.1ms postprocess per image at shape (1, 3, 384, 640)\n",
            "\n",
            "0: 384x640 3 buss, 90 cars, 2 trucks, 2 vans, 2691.1ms\n",
            "Speed: 3.6ms preprocess, 2691.1ms inference, 1.2ms postprocess per image at shape (1, 3, 384, 640)\n",
            "\n",
            "0: 384x640 3 buss, 91 cars, 2 trucks, 3 vans, 2681.1ms\n",
            "Speed: 2.9ms preprocess, 2681.1ms inference, 1.1ms postprocess per image at shape (1, 3, 384, 640)\n",
            "\n",
            "0: 384x640 4 buss, 89 cars, 2 trucks, 3 vans, 2865.7ms\n",
            "Speed: 3.7ms preprocess, 2865.7ms inference, 1.5ms postprocess per image at shape (1, 3, 384, 640)\n",
            "\n",
            "0: 384x640 3 buss, 90 cars, 2 trucks, 3 vans, 3719.3ms\n",
            "Speed: 4.3ms preprocess, 3719.3ms inference, 1.2ms postprocess per image at shape (1, 3, 384, 640)\n",
            "\n",
            "0: 384x640 3 buss, 92 cars, 2 trucks, 3 vans, 2682.8ms\n",
            "Speed: 4.6ms preprocess, 2682.8ms inference, 1.2ms postprocess per image at shape (1, 3, 384, 640)\n",
            "\n",
            "0: 384x640 4 buss, 89 cars, 2 trucks, 3 vans, 2695.4ms\n",
            "Speed: 3.7ms preprocess, 2695.4ms inference, 1.1ms postprocess per image at shape (1, 3, 384, 640)\n",
            "\n",
            "0: 384x640 4 buss, 91 cars, 2 trucks, 3 vans, 2720.9ms\n",
            "Speed: 3.7ms preprocess, 2720.9ms inference, 1.2ms postprocess per image at shape (1, 3, 384, 640)\n",
            "\n",
            "0: 384x640 3 buss, 93 cars, 2 trucks, 3 vans, 3918.0ms\n",
            "Speed: 3.7ms preprocess, 3918.0ms inference, 1.2ms postprocess per image at shape (1, 3, 384, 640)\n",
            "\n",
            "0: 384x640 3 buss, 92 cars, 2 trucks, 3 vans, 2706.6ms\n",
            "Speed: 3.7ms preprocess, 2706.6ms inference, 1.2ms postprocess per image at shape (1, 3, 384, 640)\n",
            "\n",
            "0: 384x640 4 buss, 90 cars, 2 trucks, 3 vans, 2695.2ms\n",
            "Speed: 3.7ms preprocess, 2695.2ms inference, 1.2ms postprocess per image at shape (1, 3, 384, 640)\n",
            "\n",
            "0: 384x640 4 buss, 89 cars, 2 trucks, 3 vans, 2685.7ms\n",
            "Speed: 3.7ms preprocess, 2685.7ms inference, 1.1ms postprocess per image at shape (1, 3, 384, 640)\n",
            "\n",
            "0: 384x640 3 buss, 92 cars, 2 trucks, 3 vans, 3381.2ms\n",
            "Speed: 5.1ms preprocess, 3381.2ms inference, 1.5ms postprocess per image at shape (1, 3, 384, 640)\n",
            "\n",
            "0: 384x640 3 buss, 90 cars, 2 trucks, 3 vans, 3185.3ms\n",
            "Speed: 4.5ms preprocess, 3185.3ms inference, 1.2ms postprocess per image at shape (1, 3, 384, 640)\n",
            "\n",
            "0: 384x640 3 buss, 90 cars, 2 trucks, 3 vans, 2709.8ms\n",
            "Speed: 3.7ms preprocess, 2709.8ms inference, 1.1ms postprocess per image at shape (1, 3, 384, 640)\n",
            "\n",
            "0: 384x640 3 buss, 92 cars, 2 trucks, 3 vans, 2678.3ms\n",
            "Speed: 4.3ms preprocess, 2678.3ms inference, 1.2ms postprocess per image at shape (1, 3, 384, 640)\n",
            "\n",
            "0: 384x640 3 buss, 93 cars, 2 trucks, 3 vans, 2860.7ms\n",
            "Speed: 4.0ms preprocess, 2860.7ms inference, 1.6ms postprocess per image at shape (1, 3, 384, 640)\n",
            "\n",
            "0: 384x640 4 buss, 95 cars, 2 trucks, 3 vans, 3752.7ms\n",
            "Speed: 3.8ms preprocess, 3752.7ms inference, 1.1ms postprocess per image at shape (1, 3, 384, 640)\n",
            "\n",
            "0: 384x640 3 buss, 96 cars, 2 trucks, 3 vans, 2687.6ms\n",
            "Speed: 4.0ms preprocess, 2687.6ms inference, 1.4ms postprocess per image at shape (1, 3, 384, 640)\n",
            "\n",
            "0: 384x640 3 buss, 94 cars, 2 trucks, 3 vans, 2699.6ms\n",
            "Speed: 3.7ms preprocess, 2699.6ms inference, 1.2ms postprocess per image at shape (1, 3, 384, 640)\n",
            "\n",
            "0: 384x640 4 buss, 93 cars, 2 trucks, 2 vans, 2742.1ms\n",
            "Speed: 4.1ms preprocess, 2742.1ms inference, 1.2ms postprocess per image at shape (1, 3, 384, 640)\n",
            "\n",
            "0: 384x640 3 buss, 94 cars, 2 trucks, 3 vans, 3937.4ms\n",
            "Speed: 3.7ms preprocess, 3937.4ms inference, 1.2ms postprocess per image at shape (1, 3, 384, 640)\n",
            "\n",
            "0: 384x640 3 buss, 94 cars, 2 trucks, 3 vans, 2716.4ms\n",
            "Speed: 4.1ms preprocess, 2716.4ms inference, 1.2ms postprocess per image at shape (1, 3, 384, 640)\n",
            "\n",
            "0: 384x640 3 buss, 91 cars, 2 trucks, 3 vans, 2709.4ms\n",
            "Speed: 3.6ms preprocess, 2709.4ms inference, 1.2ms postprocess per image at shape (1, 3, 384, 640)\n",
            "\n",
            "0: 384x640 3 buss, 93 cars, 2 trucks, 3 vans, 2692.6ms\n",
            "Speed: 6.0ms preprocess, 2692.6ms inference, 1.2ms postprocess per image at shape (1, 3, 384, 640)\n",
            "\n",
            "0: 384x640 3 buss, 92 cars, 2 trucks, 3 vans, 3353.4ms\n",
            "Speed: 3.6ms preprocess, 3353.4ms inference, 1.6ms postprocess per image at shape (1, 3, 384, 640)\n",
            "\n",
            "0: 384x640 3 buss, 95 cars, 3 trucks, 3 vans, 3219.5ms\n",
            "Speed: 5.5ms preprocess, 3219.5ms inference, 1.2ms postprocess per image at shape (1, 3, 384, 640)\n",
            "\n",
            "0: 384x640 3 buss, 97 cars, 2 trucks, 3 vans, 2708.1ms\n",
            "Speed: 4.3ms preprocess, 2708.1ms inference, 1.6ms postprocess per image at shape (1, 3, 384, 640)\n",
            "\n",
            "0: 384x640 3 buss, 95 cars, 2 trucks, 3 vans, 2718.1ms\n",
            "Speed: 4.0ms preprocess, 2718.1ms inference, 1.2ms postprocess per image at shape (1, 3, 384, 640)\n",
            "\n",
            "0: 384x640 3 buss, 95 cars, 2 trucks, 3 vans, 2847.0ms\n",
            "Speed: 3.7ms preprocess, 2847.0ms inference, 1.6ms postprocess per image at shape (1, 3, 384, 640)\n",
            "\n"
          ]
        }
      ]
    },
    {
      "cell_type": "code",
      "source": [
        "out.release()\n"
      ],
      "metadata": {
        "id": "6ydWbz84dDPj"
      },
      "id": "6ydWbz84dDPj",
      "execution_count": null,
      "outputs": []
    },
    {
      "cell_type": "markdown",
      "id": "71d3083e",
      "metadata": {
        "id": "71d3083e"
      },
      "source": [
        "## Save and Submit Your Work"
      ]
    },
    {
      "cell_type": "markdown",
      "id": "ae5e33ac",
      "metadata": {
        "id": "ae5e33ac"
      },
      "source": [
        "Submit both the notebook and the output video"
      ]
    }
  ],
  "metadata": {
    "language_info": {
      "name": "python"
    },
    "colab": {
      "provenance": []
    },
    "kernelspec": {
      "name": "python3",
      "display_name": "Python 3"
    }
  },
  "nbformat": 4,
  "nbformat_minor": 5
}